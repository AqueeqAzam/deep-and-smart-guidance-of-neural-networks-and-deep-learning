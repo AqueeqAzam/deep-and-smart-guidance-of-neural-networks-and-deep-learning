{
  "nbformat": 4,
  "nbformat_minor": 0,
  "metadata": {
    "colab": {
      "provenance": [],
      "authorship_tag": "ABX9TyMlwctfUSRaacACaHTn1CQw",
      "include_colab_link": true
    },
    "kernelspec": {
      "name": "python3",
      "display_name": "Python 3"
    },
    "language_info": {
      "name": "python"
    }
  },
  "cells": [
    {
      "cell_type": "markdown",
      "metadata": {
        "id": "view-in-github",
        "colab_type": "text"
      },
      "source": [
        "<a href=\"https://colab.research.google.com/github/AqueeqAzam/deep-and-smart-guidance-of-neural-networks-and-deep-learning/blob/main/deep_learning.ipynb\" target=\"_parent\"><img src=\"https://colab.research.google.com/assets/colab-badge.svg\" alt=\"Open In Colab\"/></a>"
      ]
    },
    {
      "cell_type": "markdown",
      "source": [
        "# `Deep learning`\n",
        "\n",
        "It is a method in artificial intelligence (AI) that teaches computers to process data in a way that is inspired by the human brain.\n",
        "\n",
        "input + weight -> summation and bias -> activation function -> output\n",
        "\n",
        "x1*w1 -> sum(xiwi+bias) + f(x) -> output"
      ],
      "metadata": {
        "id": "gNXBo6Mq1TYT"
      }
    },
    {
      "cell_type": "markdown",
      "source": [],
      "metadata": {
        "id": "boieuy1ZWWAt"
      }
    },
    {
      "cell_type": "markdown",
      "source": [
        "# `Neuron and neural networks`\n",
        "\n",
        "Human brain cells, called neurons (perceptron), form a complex, highly interconnected network and send electrical signals to each other to help humans process information."
      ],
      "metadata": {
        "id": "CQwjvPRC182H"
      }
    },
    {
      "cell_type": "markdown",
      "source": [
        "# `Types of neural network`\n",
        "\n",
        "perceptron, Feed Forward Network, Multi-layer Perceptron(ANN), Radial Based Network, CNN, RNN, Long Short-term memeory network"
      ],
      "metadata": {
        "id": "LZvIsfvjJZxt"
      }
    },
    {
      "cell_type": "markdown",
      "source": [
        "# `Single layer neural network (perceptron)`\n",
        "\n",
        "# y = f(Σ w_i * x_i + b)\n",
        "\n",
        "Σ (w_i * x_i): This part calculates the weighted sum.\n",
        "\n",
        "b: The bias term (b) is added to the weighted sum. This allows the neuron to learn even when the input values are all zero."
      ],
      "metadata": {
        "id": "Ujn2xvRoKaOr"
      }
    },
    {
      "cell_type": "markdown",
      "source": [],
      "metadata": {
        "id": "8nC9OAxRX4gx"
      }
    },
    {
      "cell_type": "code",
      "execution_count": null,
      "metadata": {
        "id": "v0hnHOaVzxKW"
      },
      "outputs": [],
      "source": [
        "import pandas as pd\n",
        "import numpy as np\n",
        "\n",
        "df = pd.read_csv(\"https://raw.githubusercontent.com/AqueeqAzam/data-science-and-machine-learning-datasets/main/students-placement.csv\")\n",
        "df.head(3)"
      ]
    },
    {
      "cell_type": "code",
      "source": [
        "import matplotlib.pyplot as plt\n",
        "import seaborn as sns\n",
        "from mlxtend.plotting import plot_decision_regions\n",
        "sns.scatterplot(x = df['cgpa'], y = df['iq'], data = df, hue='placed')\n",
        "plt.show()"
      ],
      "metadata": {
        "id": "0xk4mrJLO4Ua"
      },
      "execution_count": null,
      "outputs": []
    },
    {
      "cell_type": "code",
      "source": [
        "x = df.iloc[:, :-1]\n",
        "y = df['placed']\n"
      ],
      "metadata": {
        "id": "cPwdeFNNRBvG"
      },
      "execution_count": null,
      "outputs": []
    },
    {
      "cell_type": "code",
      "source": [
        "from sklearn.model_selection import train_test_split\n",
        "x_train, x_test, y_train, y_test = train_test_split(x, y, test_size=0.2, random_state=10)\n",
        "\n",
        "from sklearn.linear_model import Perceptron\n",
        "pr = Perceptron(alpha=0)\n",
        "pr.fit(x_train, y_train)\n",
        "\n",
        "pr.score(x_train, y_train)*100\n",
        "\n",
        "placed = pr.predict([[3.5, 11, 0]])\n",
        "print('Student result', placed)\n",
        "\n",
        "from sklearn.metrics import accuracy_score\n",
        "print(accuracy_score(y_test, y_pred))\n",
        "\n",
        "from sklearn.metrics import confusion_matrix\n",
        "print(confusion_matrix(y_test, y_pred))"
      ],
      "metadata": {
        "id": "3jZKFdy8RVZM"
      },
      "execution_count": null,
      "outputs": []
    },
    {
      "cell_type": "markdown",
      "source": [
        "# `Multi layer perceptron (ANNs)`\n",
        "\n",
        "ANNs (Artificial Neural Networks) are helpful for solving complex problems."
      ],
      "metadata": {
        "id": "E42JxWUYTc1J"
      }
    },
    {
      "cell_type": "code",
      "source": [
        "import pandas as pd\n",
        "import numpy as np\n",
        "from sklearn.preprocessing import StandardScaler\n",
        "from sklearn.model_selection import train_test_split\n",
        "from sklearn.metrics import accuracy_score\n",
        "\n",
        "df = pd.read_csv(\"https://raw.githubusercontent.com/AqueeqAzam/data-science-and-machine-learning-datasets/main/business-case-study.csv\")\n",
        "df.head(5)\n",
        "\n",
        "df.isnull().sum()\n",
        "\n",
        "# scaling the data\n",
        "num_col = df.select_dtypes(include=np.number).columns\n",
        "x = df[num_col]\n",
        "y = df.iloc[:, -1]\n",
        "\n",
        "scaler = StandardScaler()\n",
        "df[num_col] = scaler.fit_transform(x)\n",
        "\n",
        "# splitting the data\n",
        "x_train, x_test, y_train, y_test = train_test_split(x, y, test_size=0.2, random_state=42)\n",
        "\n",
        "x_train.shape, x_test.shape\n",
        "\n"
      ],
      "metadata": {
        "colab": {
          "base_uri": "https://localhost:8080/"
        },
        "id": "XMyIzCB7GWRB",
        "outputId": "094a9f2f-8696-4a5b-f49f-e255978c80e8"
      },
      "execution_count": null,
      "outputs": [
        {
          "output_type": "execute_result",
          "data": {
            "text/plain": [
              "((8000, 11), (2000, 11))"
            ]
          },
          "metadata": {},
          "execution_count": 21
        }
      ]
    },
    {
      "cell_type": "code",
      "source": [
        "import tensorflow as tf\n",
        "from keras.models import Sequential\n",
        "from keras.layers import Dense\n",
        "from sklearn.metrics import accuracy_score\n",
        "\n",
        "ann = Sequential()\n",
        "\n",
        "# units=6: This argument specifies the number of neurons in this dense layer.\n",
        "ann.add(Dense(units=6, activation='relu', input_dim=11))\n",
        "ann.add(Dense(units=4, activation='relu'))\n",
        "ann.add(Dense(units=2, activation='relu'))\n",
        "ann.add(Dense(units=1, activation='sigmoid'))\n",
        "\n",
        "ann.compile(optimizer='adam', loss='binary_crossentropy', metrics=['accuracy'])\n",
        "\n",
        "# x_train: This represents your training data, y_train: These are the desired outputs or targets,\n",
        "\n",
        "# Batch Size is a crucial hyperparameter that determines the number of training examples used to update the model's weights and biases in each iteration during training.\n",
        "\n",
        "# an epoch refers to a single complete pass through your entire training dataset during the training process.\n",
        "\n",
        "ann.fit(x_train, y_train, batch_size=64, epochs=40)\n",
        "\n",
        "pre = ann.predict(x_test)\n",
        "\n",
        "pre\n",
        "\n",
        "# Convert predicted probabilities to binary predictions (0 or 1)\n",
        "pre = (pre > 0.5).astype(int)\n",
        "\n",
        "acc_score = accuracy_score(y_test, pre)\n",
        "print('Accuracy of testing model is:', acc_score)\n",
        "\n",
        "\n",
        "# checking accuracy of training model\n",
        "pre1 = ann.predict(x_train)\n",
        "\n",
        "# Convert predicted probabilities to binary predictions (0 or 1)\n",
        "pre1 = (pre1 > 0.5).astype(int)\n",
        "\n",
        "acc_score1 = accuracy_score(y_train, pre1)\n",
        "print('Accuracy of training model is:', acc_score1)\n"
      ],
      "metadata": {
        "id": "OXIk3nBawhP6"
      },
      "execution_count": null,
      "outputs": []
    },
    {
      "cell_type": "markdown",
      "source": [
        "# Backward and Forward Propogation\n",
        "\n",
        "`Backward Propagation:` It is the process of moving from right (output layer) to left (input layer).\n",
        "\n",
        "`Forward propagation:` It is the way data moves from left (input layer) to right (output layer) in the neural network. A neural network can be understood by a collection of connected input/output nodes."
      ],
      "metadata": {
        "id": "L5JZR4FAW-gP"
      }
    },
    {
      "cell_type": "markdown",
      "source": [
        "# Activation Function\n",
        "\n",
        " An Activation Function decides whether a neuron should be activated or not. This means that it will decide whether the neuron's input to the network is important or not in the process of prediction using simpler mathematical operations.\n",
        "\n",
        " Linear: f(x) = x, range: - infi to +infi\n",
        "\n",
        " Non-linear: f(x) = x^2\n",
        "\n",
        " Sigmoid: pi(z) = 1/1+e^-z\n",
        "\n",
        " tang: f(x) = e^x + e^-x / e^x - e^-x\n",
        "\n",
        " ReLU: f(x) = { 0 for x<0 or x for x>= 0 }\n",
        "\n"
      ],
      "metadata": {
        "id": "S2ANv0zLX_bU"
      }
    },
    {
      "cell_type": "markdown",
      "source": [
        "# Loss Function\n",
        "\n",
        "The loss function guides the training process by indicating how much the network's outputs differ from the ground truth.\n",
        "\n",
        "By minimizing the loss function through an optimization algorithm (e.g., gradient descent), the neural network learns to adjust its internal weights and biases to produce more accurate predictions on unseen data.\n",
        "\n",
        "`For classification:`\n",
        "\n",
        "Binary Cross-Entropy: Used for problems with two output classes (e.g., cat vs. dog image classification).\n",
        "\n",
        "Categorical Cross-Entropy: Used for multi-class classification problems (e.g., classifying handwritten digits 0-9).\n",
        "\n",
        "`Regression:`\n",
        "\n",
        "Mean Squared Error (MSE): Calculates the average squared difference between the predicted continuous values and the actual target values.\n",
        "\n",
        "Mean Absolute Error (MAE): Similar to MSE, but it calculates the average absolute difference instead of squared differences.\n",
        "\n"
      ],
      "metadata": {
        "id": "CljL0sxXe7d4"
      }
    },
    {
      "cell_type": "markdown",
      "source": [
        "# Optimizer\n",
        "\n",
        "Its primary function is to adjust the weights and biases of the network's neurons iteratively to minimize a predefined loss function.\n",
        "\n",
        "`Here's a breakdown of how optimizers work:`\n",
        "\n",
        "`Loss Function:` During training, the network's predictions are compared to the actual targets (ground truth) using a loss function.\n",
        "\n",
        "`Gradient Descent:` Optimizers utilize a technique called gradient descent to update the network's weights and biases.\n",
        "\n",
        "`Optimizer's Role:` The optimizer uses the calculated gradients to adjust the weights and biases in a way that minimizes the loss function over time.\n",
        "\n",
        "\n"
      ],
      "metadata": {
        "id": "1A-yTDswgXeC"
      }
    },
    {
      "cell_type": "markdown",
      "source": [
        "# improve performance of neural network\n",
        "\n",
        "`Quality and Quantity:` Ensure you have high-quality, labeled data relevant to your task.\n",
        "\n",
        "`Preprocessing:` Clean and normalize your data. This often involves handling missing values, scaling features to a common range.\n",
        "\n",
        "`Complexity:` Experiment with different network architectures (number of layers, neurons per layer, activation functions) to find a suitable balance between complexity and overfitting.\n",
        "\n",
        "`Loss Function and Metrics:` Closely monitor the training and validation loss during training.\n",
        "\n",
        "`Regularization:` Techniques like L1/L2 regularization penalize large weights, preventing the network from overfitting by encouraging simpler models.\n",
        "\n",
        "`Learning Rate:` The learning rate controls the magnitude of weight updates during training.\n",
        "\n",
        "`Optimizer:` Choose an appropriate optimizer based on your problem type and network architecture.\n",
        "\n",
        "\n",
        "\n",
        "\n"
      ],
      "metadata": {
        "id": "9cPfKsuMiqlz"
      }
    },
    {
      "cell_type": "markdown",
      "source": [
        "# `Overfitting`\n",
        "\n",
        "Overfitting is a common challenge in neural network training. It occurs when a network memorizes the specific details of the training data too closely, hindering its ability to generalize well to unseen examples.\n",
        "\n",
        "`if training accuracy > testing accuracy:`\n",
        "      return overfitting\n",
        "\n",
        "`if training accuracy = testing accuracy`\n",
        "     retrun bestfitting\n",
        "\n",
        "`if not one of them:`\n",
        "    retrun underfitting\n"
      ],
      "metadata": {
        "id": "rQSLU7ilcXZw"
      }
    },
    {
      "source": [
        "import pandas as pd\n",
        "from sklearn.preprocessing import StandardScaler\n",
        "from sklearn.model_selection import train_test_split\n",
        "from sklearn.metrics import accuracy_score\n",
        "import tensorflow as tf\n",
        "from keras.models import Sequential\n",
        "from keras.layers import Dense\n",
        "from sklearn.metrics import accuracy_score\n",
        "\n",
        "df = pd.read_csv(\"https://raw.githubusercontent.com/AqueeqAzam/data-science-and-machine-learning-datasets/main/students-placement.csv\")\n",
        "df.head(4)\n",
        "\n",
        "df.isnull().sum()\n",
        "\n",
        "# Select only numerical columns for scaling\n",
        "numerical_cols = df.select_dtypes(include=['number']).columns\n",
        "x = df[numerical_cols]\n",
        "\n",
        "y = df.iloc[:, -1]\n",
        "\n",
        "ss = StandardScaler()\n",
        "ss.fit_transform(x)\n",
        "\n",
        "x = pd.DataFrame(ss.fit_transform(x), columns=x.columns)\n",
        "x\n",
        "\n",
        "x_train, x_test, y_train, y_test = train_test_split(x, y, test_size=0.2, random_state=20)\n",
        "\n",
        "x_train.shape\n",
        "\n",
        "\n",
        "ann = Sequential()\n",
        "# Update input_dim to match the number of features in your new dataset\n",
        "ann.add(Dense(units=6, activation='relu', input_dim=4))\n",
        "ann.add(Dense(units=4, activation='relu'))\n",
        "ann.add(Dense(units=2, activation='relu'))\n",
        "ann.add(Dense(units=1, activation='sigmoid'))\n",
        "\n",
        "ann.compile(optimizer='adam', loss='binary_crossentropy', metrics=['accuracy'])\n",
        "\n",
        "ann.fit(x_train, y_train, batch_size=50, epochs=20, validation_data=(x_test, y_test))\n",
        "\n",
        "pre = ann.predict(x_test)\n",
        "\n",
        "# Convert predicted probabilities to binary predictions (0 or 1)\n",
        "pre = (pre > 0.5).astype(int)\n",
        "\n",
        "acc_score = accuracy_score(y_test, pre)\n",
        "print('Accuracy of testing model is:', acc_score)\n",
        "\n",
        "\n",
        "# checking accuracy of training model\n",
        "pre1 = ann.predict(x_train)\n",
        "\n",
        "# Convert predicted probabilities to binary predictions (0 or 1)\n",
        "pre1 = (pre1 > 0.5).astype(int)\n",
        "\n",
        "acc_score1 = accuracy_score(y_train, pre1)\n",
        "print('Accuracy of training model is:', acc_score1)\n"
      ],
      "cell_type": "code",
      "metadata": {
        "id": "UfCV794chB1-"
      },
      "execution_count": null,
      "outputs": []
    },
    {
      "cell_type": "markdown",
      "source": [
        "# `Remove Overfitting`\n",
        "\n",
        "`Reduce Model Complexity:`\n",
        "\n",
        "`Smaller Networks:` A less complex network with fewer layers and neurons has less capacity to overfit.\n",
        "\n",
        "`Regularization:` Techniques like L1/L2 regularization penalize large weights in the network, discouraging the model from becoming overly reliant on specific features.\n",
        "\n",
        "`Training Process Optimization:`\n",
        "\n",
        "`Learning Rate Tuning:` A high learning rate can lead to overfitting, while a low learning rate might hinder training progress.\n",
        "\n",
        "`Improve Data Quality and Quantity:`\n",
        "\n",
        "`High-Quality Data:` Ensure you have clean, well-labeled data relevant to the task.\n",
        "\n",
        "`Data Augmentation:` Artificially increase the size and diversity of your dataset using techniques like random cropping, flipping, or adding noise. This helps the network learn more generalizable features.\n",
        "\n"
      ],
      "metadata": {
        "id": "jveyXTgnb8y-"
      }
    },
    {
      "source": [
        "import matplotlib.pyplot as plt\n",
        "from keras.callbacks import EarlyStopping\n",
        "\n",
        "# Create an EarlyStopping callback\n",
        "callbacks = [EarlyStopping(monitor='val_loss', patience=3)]\n",
        "\n",
        "history = ann.fit(x_train, y_train, batch_size=50, epochs=20,\n",
        "                    validation_data=(x_test, y_test),\n",
        "                    callbacks=callbacks) # Pass the callback to the fit method\n",
        "\n",
        "history.history[\"accuracy\"]\n",
        "plt.plot(history.history['loss']) # Use the 'history' variable returned from the fit method\n",
        "plt.plot(history.history['val_loss'])"
      ],
      "cell_type": "code",
      "metadata": {
        "colab": {
          "base_uri": "https://localhost:8080/",
          "height": 606
        },
        "id": "q8rcAfzAhZiu",
        "outputId": "14110dff-38bd-45b8-c4f0-d2b34f41d686"
      },
      "execution_count": null,
      "outputs": [
        {
          "output_type": "stream",
          "name": "stdout",
          "text": [
            "Epoch 1/20\n",
            "1/1 [==============================] - 0s 119ms/step - loss: 0.7264 - accuracy: 0.6000 - val_loss: 0.7111 - val_accuracy: 0.2500\n",
            "Epoch 2/20\n",
            "1/1 [==============================] - 0s 40ms/step - loss: 0.7251 - accuracy: 0.6000 - val_loss: 0.7114 - val_accuracy: 0.2500\n",
            "Epoch 3/20\n",
            "1/1 [==============================] - 0s 39ms/step - loss: 0.7239 - accuracy: 0.6000 - val_loss: 0.7117 - val_accuracy: 0.2500\n",
            "Epoch 4/20\n",
            "1/1 [==============================] - 0s 49ms/step - loss: 0.7226 - accuracy: 0.6000 - val_loss: 0.7120 - val_accuracy: 0.2500\n"
          ]
        },
        {
          "output_type": "execute_result",
          "data": {
            "text/plain": [
              "[<matplotlib.lines.Line2D at 0x7e0e1224e140>]"
            ]
          },
          "metadata": {},
          "execution_count": 17
        },
        {
          "output_type": "display_data",
          "data": {
            "text/plain": [
              "<Figure size 640x480 with 1 Axes>"
            ],
            "image/png": "[encoded data removed]"
          },
          "metadata": {}
        }
      ]
    },
    {
      "cell_type": "markdown",
      "source": [
        "# `Batch Normalization`\n",
        "\n",
        "A method used to make training of artificial neural networks faster and more stable through normalization of the layers' inputs by re-centering and re-scaling."
      ],
      "metadata": {
        "id": "Bjt6Rb3ziswl"
      }
    },
    {
      "source": [
        "import pandas as pd\n",
        "from sklearn.preprocessing import StandardScaler\n",
        "from sklearn.model_selection import train_test_split\n",
        "from sklearn.metrics import accuracy_score\n",
        "import tensorflow as tf\n",
        "from keras.layers import BatchNormalization\n",
        "from keras.models import Sequential\n",
        "from keras.layers import Dense\n",
        "from sklearn.metrics import accuracy_score\n",
        "from keras import layers\n",
        "from keras import regularizers\n",
        "\n",
        "df = pd.read_csv(\"https://raw.githubusercontent.com/AqueeqAzam/data-science-and-machine-learning-datasets/main/students-placement.csv\")\n",
        "df.head(4)\n",
        "\n",
        "df.isnull().sum()\n",
        "\n",
        "# Select only numerical columns for scaling\n",
        "numerical_cols = df.select_dtypes(include=['number']).columns\n",
        "x = df[numerical_cols]\n",
        "\n",
        "y = df.iloc[:, -1]\n",
        "\n",
        "ss = StandardScaler()\n",
        "ss.fit_transform(x)\n",
        "\n",
        "x = pd.DataFrame(ss.fit_transform(x), columns=x.columns)\n",
        "x\n",
        "\n",
        "x_train, x_test, y_train, y_test = train_test_split(x, y, test_size=0.2, random_state=20)\n",
        "\n",
        "x_train.shape\n",
        "\n",
        "\n",
        "ann = Sequential()\n",
        "# Update input_dim to match the number of features in your new dataset\n",
        "ann.add(layers.Dense(units=6, activation='relu', kernel_regularizer=regularizers.l2(l2=0.01)))\n",
        "ann.add(BatchNormalization())\n",
        "\n",
        "ann.add(layers.Dense(units=6, activation='relu', kernel_regularizer=regularizers.l2(l2=0.01)))\n",
        "ann.add(BatchNormalization())\n",
        "\n",
        "ann.add(layers.Dense(units=6, activation='relu', kernel_regularizer=regularizers.l2(l2=0.01)))\n",
        "ann.add(BatchNormalization())\n",
        "\n",
        "ann.add(Dense(units=1, activation='sigmoid'))\n",
        "\n",
        "ann.compile(optimizer='adam', loss='binary_crossentropy', metrics=['accuracy'])\n",
        "\n",
        "ann.fit(x_train, y_train, batch_size=50, epochs=20, validation_data=(x_test, y_test))\n",
        "\n",
        "pre = ann.predict(x_test)\n",
        "\n",
        "# Convert predicted probabilities to binary predictions (0 or 1)\n",
        "pre = (pre > 0.5).astype(int)\n",
        "\n",
        "acc_score = accuracy_score(y_test, pre)\n",
        "print('Accuracy of testing model is:', acc_score)\n",
        "\n",
        "\n",
        "# checking accuracy of training model\n",
        "pre1 = ann.predict(x_train)\n",
        "\n",
        "# Convert predicted probabilities to binary predictions (0 or 1)\n",
        "pre1 = (pre1 > 0.5).astype(int)\n",
        "\n",
        "acc_score1 = accuracy_score(y_train, pre1)\n",
        "print('Accuracy of training model is:', acc_score1)\n"
      ],
      "cell_type": "code",
      "metadata": {
        "id": "69KPIRXhk-BK",
        "colab": {
          "base_uri": "https://localhost:8080/"
        },
        "outputId": "a0657e5e-137b-4b6c-ccac-147c17dc66c0"
      },
      "execution_count": 2,
      "outputs": [
        {
          "output_type": "stream",
          "name": "stdout",
          "text": [
            "Epoch 1/20\n",
            "1/1 [==============================] - 2s 2s/step - loss: 0.7518 - accuracy: 0.6000 - val_loss: 0.7785 - val_accuracy: 0.7500\n",
            "Epoch 2/20\n",
            "1/1 [==============================] - 0s 56ms/step - loss: 0.7391 - accuracy: 0.6667 - val_loss: 0.7805 - val_accuracy: 0.7500\n",
            "Epoch 3/20\n",
            "1/1 [==============================] - 0s 37ms/step - loss: 0.7282 - accuracy: 0.6667 - val_loss: 0.7825 - val_accuracy: 0.7500\n",
            "Epoch 4/20\n",
            "1/1 [==============================] - 0s 34ms/step - loss: 0.7173 - accuracy: 0.6667 - val_loss: 0.7846 - val_accuracy: 0.7500\n",
            "Epoch 5/20\n",
            "1/1 [==============================] - 0s 38ms/step - loss: 0.7066 - accuracy: 0.7333 - val_loss: 0.7867 - val_accuracy: 0.7500\n",
            "Epoch 6/20\n",
            "1/1 [==============================] - 0s 36ms/step - loss: 0.6959 - accuracy: 0.7333 - val_loss: 0.7888 - val_accuracy: 0.7500\n",
            "Epoch 7/20\n",
            "1/1 [==============================] - 0s 42ms/step - loss: 0.6854 - accuracy: 0.7333 - val_loss: 0.7909 - val_accuracy: 0.7500\n",
            "Epoch 8/20\n",
            "1/1 [==============================] - 0s 37ms/step - loss: 0.6756 - accuracy: 0.7333 - val_loss: 0.7930 - val_accuracy: 0.7500\n",
            "Epoch 9/20\n",
            "1/1 [==============================] - 0s 47ms/step - loss: 0.6661 - accuracy: 0.7333 - val_loss: 0.7950 - val_accuracy: 0.7500\n",
            "Epoch 10/20\n",
            "1/1 [==============================] - 0s 62ms/step - loss: 0.6568 - accuracy: 0.7333 - val_loss: 0.7971 - val_accuracy: 0.7500\n",
            "Epoch 11/20\n",
            "1/1 [==============================] - 0s 43ms/step - loss: 0.6476 - accuracy: 0.8000 - val_loss: 0.7992 - val_accuracy: 0.7500\n",
            "Epoch 12/20\n",
            "1/1 [==============================] - 0s 37ms/step - loss: 0.6387 - accuracy: 0.8000 - val_loss: 0.8012 - val_accuracy: 0.7500\n",
            "Epoch 13/20\n",
            "1/1 [==============================] - 0s 36ms/step - loss: 0.6300 - accuracy: 0.8000 - val_loss: 0.8031 - val_accuracy: 0.7500\n",
            "Epoch 14/20\n",
            "1/1 [==============================] - 0s 39ms/step - loss: 0.6217 - accuracy: 0.8000 - val_loss: 0.8050 - val_accuracy: 0.7500\n",
            "Epoch 15/20\n",
            "1/1 [==============================] - 0s 36ms/step - loss: 0.6137 - accuracy: 0.8000 - val_loss: 0.8068 - val_accuracy: 0.7500\n",
            "Epoch 16/20\n",
            "1/1 [==============================] - 0s 37ms/step - loss: 0.6060 - accuracy: 0.8000 - val_loss: 0.8086 - val_accuracy: 0.7500\n",
            "Epoch 17/20\n",
            "1/1 [==============================] - 0s 63ms/step - loss: 0.5985 - accuracy: 0.8000 - val_loss: 0.8104 - val_accuracy: 0.7500\n",
            "Epoch 18/20\n",
            "1/1 [==============================] - 0s 38ms/step - loss: 0.5913 - accuracy: 0.8000 - val_loss: 0.8122 - val_accuracy: 0.7500\n",
            "Epoch 19/20\n",
            "1/1 [==============================] - 0s 55ms/step - loss: 0.5843 - accuracy: 0.8667 - val_loss: 0.8140 - val_accuracy: 0.7500\n",
            "Epoch 20/20\n",
            "1/1 [==============================] - 0s 38ms/step - loss: 0.5778 - accuracy: 0.8667 - val_loss: 0.8158 - val_accuracy: 0.7500\n",
            "1/1 [==============================] - 0s 198ms/step\n",
            "Accuracy of testing model is: 0.75\n",
            "1/1 [==============================] - 0s 28ms/step\n",
            "Accuracy of training model is: 0.8\n"
          ]
        }
      ]
    },
    {
      "cell_type": "markdown",
      "source": [
        "# `Dropout Layers`\n",
        "\n",
        "In neural networks, a dropout layer is a powerful technique used to prevent overfitting during training."
      ],
      "metadata": {
        "id": "6ruTY6HpmfAN"
      }
    },
    {
      "source": [
        "from tensorflow import keras\n",
        "import pandas as pd\n",
        "import numpy as np\n",
        "from sklearn.preprocessing import StandardScaler\n",
        "from sklearn.model_selection import train_test_split\n",
        "from sklearn.metrics import accuracy_score\n",
        "\n",
        "df = pd.read_csv(\"https://raw.githubusercontent.com/AqueeqAzam/data-science-and-machine-learning-datasets/main/business-case-study.csv\")\n",
        "df.head(5)\n",
        "\n",
        "df.isnull().sum()\n",
        "\n",
        "# scaling the data\n",
        "num_col = df.select_dtypes(include=np.number).columns\n",
        "x = df[num_col]\n",
        "y = df.iloc[:, -1]\n",
        "\n",
        "scaler = StandardScaler()\n",
        "df[num_col] = scaler.fit_transform(x)\n",
        "\n",
        "# splitting the data\n",
        "x_train, x_test, y_train, y_test = train_test_split(x, y, test_size=0.2, random_state=42)\n",
        "\n",
        "\n",
        "# Define the model\n",
        "model = keras.Sequential([\n",
        "  # Remove the Flatten layer since your input is not image data\n",
        "  layers.Dense(units=128, activation='relu', input_shape=(x_train.shape[1],)),\n",
        "  layers.Dropout(rate=0.3),\n",
        "  layers.Dense(units=64, activation='relu'),\n",
        "  layers.Dense(units=1, activation='sigmoid')  # Use sigmoid for binary classification\n",
        "])\n",
        "\n",
        "# Compile the model\n",
        "model.compile(optimizer='adam', loss='binary_crossentropy', metrics=['accuracy']) # Use binary_crossentropy for binary classification\n",
        "\n",
        "# Train the model\n",
        "model.fit(x_train, y_train, epochs=10)\n",
        "\n",
        "# Evaluate the model\n",
        "test_loss, test_acc = model.evaluate(x_test, y_test)\n",
        "print('Test accuracy:', test_acc)"
      ],
      "cell_type": "code",
      "metadata": {
        "colab": {
          "base_uri": "https://localhost:8080/"
        },
        "id": "fO_1JktDsKDv",
        "outputId": "2adfef2c-97cb-4f64-b585-7dc35ba2caad"
      },
      "execution_count": 9,
      "outputs": [
        {
          "output_type": "stream",
          "name": "stdout",
          "text": [
            "Epoch 1/10\n",
            "250/250 [==============================] - 1s 2ms/step - loss: 106258.1094 - accuracy: 0.6726\n",
            "Epoch 2/10\n",
            "250/250 [==============================] - 1s 2ms/step - loss: 27870.0352 - accuracy: 0.6729\n",
            "Epoch 3/10\n",
            "250/250 [==============================] - 1s 2ms/step - loss: 13033.5449 - accuracy: 0.6740\n",
            "Epoch 4/10\n",
            "250/250 [==============================] - 1s 2ms/step - loss: 10321.7090 - accuracy: 0.6730\n",
            "Epoch 5/10\n",
            "250/250 [==============================] - 0s 2ms/step - loss: 6273.7349 - accuracy: 0.6814\n",
            "Epoch 6/10\n",
            "250/250 [==============================] - 0s 2ms/step - loss: 7335.3887 - accuracy: 0.6729\n",
            "Epoch 7/10\n",
            "250/250 [==============================] - 0s 2ms/step - loss: 5539.7798 - accuracy: 0.6640\n",
            "Epoch 8/10\n",
            "250/250 [==============================] - 1s 2ms/step - loss: 3668.1064 - accuracy: 0.6715\n",
            "Epoch 9/10\n",
            "250/250 [==============================] - 1s 2ms/step - loss: 1911.4436 - accuracy: 0.6762\n",
            "Epoch 10/10\n",
            "250/250 [==============================] - 1s 2ms/step - loss: 1176.0658 - accuracy: 0.6754\n",
            "63/63 [==============================] - 0s 2ms/step - loss: 245.5390 - accuracy: 0.8035\n",
            "Test accuracy: 0.8034999966621399\n"
          ]
        }
      ]
    },
    {
      "cell_type": "markdown",
      "source": [
        "# `Vanishing Gradient Problem`\n",
        "\n",
        "`Consequences of Vanishing Gradients:`\n",
        "\n",
        "`Slow Training:` The network struggles to learn, and training can become very slow.\n",
        "`Poor Performance:` The network might not achieve optimal performance due to the limited learning in earlier layers.\n",
        "\n",
        "`Addressing Vanishing Gradients:`\n",
        "\n",
        "`Activation Functions:` Choosing activation functions that don't have vanishing gradients is crucial. ReLU (Rectified Linear Unit) is a popular choice as it has a constant gradient of 1 for positive inputs.\n"
      ],
      "metadata": {
        "id": "JT2UNuJLuG3e"
      }
    },
    {
      "cell_type": "markdown",
      "source": [
        "# `Hyperparameter Tuning`\n",
        "\n",
        "Hyperparameter tuning is an essential process in optimizing the performance of deep learning models, especially neural networks.\n",
        "\n",
        "Hyperparameters are settings that control the learning process of a model but are not directly learned from the training data.\n",
        "\n",
        "Examples include:\n",
        "\n",
        "`Learning rate:` Controls how much the weights of the model are updated during training.\n",
        "\n",
        "`Number of epochs:` Number of times the entire training dataset is passed through the model during training.\n",
        "\n",
        "`Network architecture: `Number and type of layers in a neural network.\n",
        "\n",
        "`Batch size:` Number of samples used to update the model's weights in each iteration.\n",
        "\n",
        "`Regularization parameters:` Techniques like L1/L2 regularization or dropout that control the complexity of the model and prevent overfitting.\n"
      ],
      "metadata": {
        "id": "QzGbeYURuwUX"
      }
    },
    {
      "cell_type": "markdown",
      "source": [
        "# `CNNs`\n",
        "\n",
        "`CNNs (Convolution Neural Networks)` It is best for solving Computer Vision-related problems.\n",
        "\n",
        "\n",
        "CNN is a type of artificial neural, which is widely used for image/object recognition and classification."
      ],
      "metadata": {
        "id": "Fv8OSd-Yb8j4"
      }
    },
    {
      "cell_type": "markdown",
      "source": [
        "`Import libraries`"
      ],
      "metadata": {
        "id": "WzVas4nk0k3n"
      }
    },
    {
      "cell_type": "code",
      "source": [
        "import numpy as np\n",
        "import matplotlib.pyplot as plt\n",
        "import seaborn as sns\n",
        "import keras"
      ],
      "metadata": {
        "id": "gIgJhwGy3tfZ"
      },
      "execution_count": null,
      "outputs": []
    },
    {
      "cell_type": "markdown",
      "source": [
        "`Load Datasets`"
      ],
      "metadata": {
        "id": "WwuJFYPx1TX9"
      }
    },
    {
      "cell_type": "code",
      "source": [
        "(x_train, y_train), (x_test, y_test) = keras.datasets.fashion_mnist.load_data()\n",
        "x_train.shape, y_train.shape, x_test.shape, y_test.shape\n",
        "\n",
        "# ((60000, 28, 28), (60000,) ((no. of images, img_row, img_col), (labels,)\n",
        "\n",
        "# display single image\n",
        "x_train[0], y_train[0]\n",
        "\n",
        "# display image\n",
        "plt.imshow(x_train[0], cmap='gray')\n",
        "plt.show()\n",
        "\n",
        "x_train.ndim"
      ],
      "metadata": {
        "id": "KW8MhTVU1RAJ"
      },
      "execution_count": null,
      "outputs": []
    },
    {
      "cell_type": "markdown",
      "source": [
        "`Feature Scaling`"
      ],
      "metadata": {
        "id": "EIZPpzLh40N5"
      }
    },
    {
      "cell_type": "code",
      "source": [
        "x_train = x_train/255\n",
        "x_test = x_test/255"
      ],
      "metadata": {
        "id": "XvG5k44R47x9"
      },
      "execution_count": null,
      "outputs": []
    },
    {
      "cell_type": "markdown",
      "source": [
        "`Split Dataset`"
      ],
      "metadata": {
        "id": "yNVbd3m75M_e"
      }
    },
    {
      "cell_type": "code",
      "source": [
        "from sklearn.model_selection import train_test_split\n",
        "x_train, x_val, y_train, y_val = train_test_split(x_train, y_train, test_size=0.2, random_state=10)\n",
        "\n",
        "x_train.shape, x_val.shape, y_train.shape, y_val.shape"
      ],
      "metadata": {
        "colab": {
          "base_uri": "https://localhost:8080/"
        },
        "id": "rcs4AbQX5RTk",
        "outputId": "bb6c3bd0-d512-478e-847c-ede4ff423f51"
      },
      "execution_count": null,
      "outputs": [
        {
          "output_type": "execute_result",
          "data": {
            "text/plain": [
              "((38400, 28, 28), (9600, 28, 28), (38400,), (9600,))"
            ]
          },
          "metadata": {},
          "execution_count": 20
        }
      ]
    },
    {
      "cell_type": "markdown",
      "source": [
        "`CNNs model building`"
      ],
      "metadata": {
        "id": "rCliUEvy5bn2"
      }
    },
    {
      "source": [
        "model = keras.models.Sequential([keras.layers.Conv2D(\n",
        "    filters=32,\n",
        "    kernel_size=3,\n",
        "    activation='relu',\n",
        "    input_shape=(28, 28, 1)),\n",
        "    keras.layers.MaxPooling2D(pool_size=2), # Changed 'MaxPooling2Dz' to 'MaxPooling2D'\n",
        "    keras.layers.Flatten(),\n",
        "    keras.layers.Dense(units=128, activation='relu'),\n",
        "    keras.layers.Dense(units=10, activation='softmax'),\n",
        "])\n",
        "\n",
        "model.summary()\n",
        "\n",
        "model.compile(loss='sparse_categorical_crossentropy', optimizer='adam', metrics=['accuracy'])\n",
        "\n",
        "history = model.fit(x_train, y_train, epochs=10, verbose=1, validation_data=(x_val, y_val))"
      ],
      "cell_type": "code",
      "metadata": {
        "colab": {
          "base_uri": "https://localhost:8080/"
        },
        "id": "cbgWNzyW87MM",
        "outputId": "63189f5f-da60-40bb-b334-1727d99303b2"
      },
      "execution_count": null,
      "outputs": [
        {
          "output_type": "stream",
          "name": "stdout",
          "text": [
            "Model: \"sequential_8\"\n",
            "_________________________________________________________________\n",
            " Layer (type)                Output Shape              Param #   \n",
            "=================================================================\n",
            " conv2d_9 (Conv2D)           (None, 26, 26, 32)        320       \n",
            "                                                                 \n",
            " max_pooling2d_7 (MaxPoolin  (None, 13, 13, 32)        0         \n",
            " g2D)                                                            \n",
            "                                                                 \n",
            " flatten_7 (Flatten)         (None, 5408)              0         \n",
            "                                                                 \n",
            " dense_13 (Dense)            (None, 128)               692352    \n",
            "                                                                 \n",
            " dense_14 (Dense)            (None, 10)                1290      \n",
            "                                                                 \n",
            "=================================================================\n",
            "Total params: 693962 (2.65 MB)\n",
            "Trainable params: 693962 (2.65 MB)\n",
            "Non-trainable params: 0 (0.00 Byte)\n",
            "_________________________________________________________________\n",
            "Epoch 1/10\n",
            "1200/1200 [==============================] - 24s 20ms/step - loss: 0.4345 - accuracy: 0.8468 - val_loss: 0.3907 - val_accuracy: 0.8570\n",
            "Epoch 2/10\n",
            "1200/1200 [==============================] - 21s 18ms/step - loss: 0.2877 - accuracy: 0.8979 - val_loss: 0.2799 - val_accuracy: 0.8973\n",
            "Epoch 3/10\n",
            "1200/1200 [==============================] - 23s 19ms/step - loss: 0.2388 - accuracy: 0.9133 - val_loss: 0.2580 - val_accuracy: 0.9059\n",
            "Epoch 4/10\n",
            "1200/1200 [==============================] - 23s 19ms/step - loss: 0.2003 - accuracy: 0.9265 - val_loss: 0.2570 - val_accuracy: 0.9090\n",
            "Epoch 5/10\n",
            "1200/1200 [==============================] - 22s 18ms/step - loss: 0.1740 - accuracy: 0.9357 - val_loss: 0.2381 - val_accuracy: 0.9160\n",
            "Epoch 6/10\n",
            "1200/1200 [==============================] - 23s 19ms/step - loss: 0.1464 - accuracy: 0.9456 - val_loss: 0.2644 - val_accuracy: 0.9097\n",
            "Epoch 7/10\n",
            "1200/1200 [==============================] - 21s 18ms/step - loss: 0.1254 - accuracy: 0.9543 - val_loss: 0.2567 - val_accuracy: 0.9164\n",
            "Epoch 8/10\n",
            "1200/1200 [==============================] - 22s 19ms/step - loss: 0.1051 - accuracy: 0.9624 - val_loss: 0.2762 - val_accuracy: 0.9112\n",
            "Epoch 9/10\n",
            "1200/1200 [==============================] - 22s 19ms/step - loss: 0.0878 - accuracy: 0.9675 - val_loss: 0.2898 - val_accuracy: 0.9152\n",
            "Epoch 10/10\n",
            "1200/1200 [==============================] - 21s 17ms/step - loss: 0.0746 - accuracy: 0.9724 - val_loss: 0.3022 - val_accuracy: 0.9175\n"
          ]
        }
      ]
    },
    {
      "cell_type": "markdown",
      "source": [
        "`Test model`"
      ],
      "metadata": {
        "id": "-W8EcPKtA96B"
      }
    },
    {
      "cell_type": "code",
      "source": [
        "\n",
        "model.predict(np.expand_dims(x_test[0], axis=0)).round(2)\n",
        "\n",
        "np.argmax(model.predict(np.expand_dims(x_test[0], axis=0)).round(2))\n",
        "\n",
        "model.evaluate(x_test, y_test)\n"
      ],
      "metadata": {
        "colab": {
          "base_uri": "https://localhost:8080/"
        },
        "id": "uQqx4fF_BAbl",
        "outputId": "68e5860a-071f-4dfc-ff4b-05ca9da40d43"
      },
      "execution_count": null,
      "outputs": [
        {
          "output_type": "stream",
          "name": "stdout",
          "text": [
            "1/1 [==============================] - 0s 19ms/step\n",
            "1/1 [==============================] - 0s 25ms/step\n",
            "313/313 [==============================] - 1s 5ms/step - loss: 0.3225 - accuracy: 0.9101\n"
          ]
        },
        {
          "output_type": "execute_result",
          "data": {
            "text/plain": [
              "[0.3225385546684265, 0.910099983215332]"
            ]
          },
          "metadata": {},
          "execution_count": 36
        }
      ]
    },
    {
      "cell_type": "markdown",
      "source": [
        "`Confusion Matrix`"
      ],
      "metadata": {
        "id": "dHeWNq_fDHvr"
      }
    },
    {
      "cell_type": "code",
      "source": [
        "from sklearn.metrics import confusion_matrix\n",
        "plt.figure(figsize=(12, 8))\n",
        "y_pred_label = [ np.argmax(label) for label in y_pred]\n",
        "cm = confusion_matrix(y_test, y_pred_label)\n",
        "sns.heatmap(cm, annot=True, fmt='d', cmap='Blues')\n",
        "plt.xlabel('Predicted')\n",
        "plt.ylabel('Actual')\n",
        "plt.show()"
      ],
      "metadata": {
        "id": "hL_Oau-MDLdY"
      },
      "execution_count": null,
      "outputs": []
    },
    {
      "cell_type": "markdown",
      "source": [
        "`Classification Report`"
      ],
      "metadata": {
        "id": "asFK7rQZFZlK"
      }
    },
    {
      "cell_type": "code",
      "source": [
        "from sklearn.metrics import classification_report\n",
        "print(classification_report(y_test, y_pred_label))"
      ],
      "metadata": {
        "colab": {
          "base_uri": "https://localhost:8080/"
        },
        "id": "ddPJ-QI8Fc_x",
        "outputId": "87317dcb-1435-421c-a9cf-fabd59b44d83"
      },
      "execution_count": null,
      "outputs": [
        {
          "output_type": "stream",
          "name": "stdout",
          "text": [
            "              precision    recall  f1-score   support\n",
            "\n",
            "           0       0.86      0.86      0.86      1000\n",
            "           1       0.99      0.98      0.99      1000\n",
            "           2       0.85      0.85      0.85      1000\n",
            "           3       0.92      0.91      0.92      1000\n",
            "           4       0.87      0.84      0.86      1000\n",
            "           5       0.97      0.98      0.98      1000\n",
            "           6       0.74      0.77      0.75      1000\n",
            "           7       0.98      0.94      0.96      1000\n",
            "           8       0.98      0.98      0.98      1000\n",
            "           9       0.95      0.98      0.96      1000\n",
            "\n",
            "    accuracy                           0.91     10000\n",
            "   macro avg       0.91      0.91      0.91     10000\n",
            "weighted avg       0.91      0.91      0.91     10000\n",
            "\n"
          ]
        }
      ]
    },
    {
      "cell_type": "markdown",
      "source": [
        "`Save model`"
      ],
      "metadata": {
        "id": "aNxoh3IpF3-o"
      }
    },
    {
      "cell_type": "code",
      "source": [
        "model.save('fashion_classification.h5')"
      ],
      "metadata": {
        "colab": {
          "base_uri": "https://localhost:8080/"
        },
        "id": "b_cReJQuF7LP",
        "outputId": "7e979f1c-2a8d-4a02-d7ad-1b0cef1b918e"
      },
      "execution_count": null,
      "outputs": [
        {
          "output_type": "stream",
          "name": "stderr",
          "text": [
            "/usr/local/lib/python3.10/dist-packages/keras/src/engine/training.py:3103: UserWarning: You are saving your model as an HDF5 file via `model.save()`. This file format is considered legacy. We recommend using instead the native Keras format, e.g. `model.save('my_model.keras')`.\n",
            "  saving_api.save_model(\n"
          ]
        }
      ]
    },
    {
      "cell_type": "markdown",
      "source": [],
      "metadata": {
        "id": "7K5qmg8NDHht"
      }
    },
    {
      "cell_type": "markdown",
      "source": [
        "# `RNNs`\n",
        "\n",
        "`RNNs (Recurrent Neural Networks):` It is proficient in Natural Language Processing.\n",
        "\n",
        "Mark work for Facebook in America\n",
        "\n",
        "Person -> Mark\n",
        "\n",
        "0 -> work\n",
        "\n",
        "0 -> for\n",
        "\n",
        "organization -> Facebook\n",
        "\n",
        "0 -> in\n",
        "\n",
        "location -> America\n"
      ],
      "metadata": {
        "id": "7wD8k52kcW9M"
      }
    },
    {
      "source": [
        "import tensorflow as tf\n",
        "from tensorflow.keras.layers import SimpleRNN, Dense\n",
        "\n",
        "# Sequence length (number of timesteps)\n",
        "sequence_length = 10\n",
        "# Number of features in each timestep\n",
        "num_features = 4\n",
        "# Number of units in the RNN layer\n",
        "num_units = 8\n",
        "\n",
        "# Generate random data for sequences\n",
        "# Adjust the number of samples to a reasonable amount for training\n",
        "num_samples = 100\n",
        "data = tf.random.uniform((num_samples, sequence_length, num_features))\n",
        "\n",
        "# Create labels (example: predicting the sum of features at each timestep)\n",
        "y = tf.reduce_sum(data, axis=2)\n",
        "\n",
        "# Split data into training and validation sets\n",
        "split_index = int(num_samples * 0.8)\n",
        "x_train, x_val = data[:split_index], data[split_index:]\n",
        "y_train, y_val = y[:split_index], y[split_index:]\n",
        "\n",
        "model = tf.keras.Sequential([\n",
        "  SimpleRNN(num_units, return_sequences=True, input_shape=(sequence_length, num_features)),  # Process entire sequence\n",
        "  SimpleRNN(num_units),  # Second RNN layer (optional)\n",
        "  Dense(1)  # Output layer (adjust for your task)\n",
        "])\n",
        "\n",
        "\n",
        "model.compile(loss='mse', optimizer='adam')  # Mean squared error loss for simplicity\n",
        "\n",
        "# Use the training data (x_train, y_train) and validation data (x_val, y_val)\n",
        "model.fit(x_train, y_train, validation_data=(x_val, y_val), epochs=10)\n",
        "\n",
        "\n",
        "# New sequence for prediction\n",
        "new_data = tf.random.uniform((1, sequence_length, num_features))\n",
        "prediction = model.predict(new_data)\n",
        "print('Prediction of model is:', prediction)"
      ],
      "cell_type": "code",
      "metadata": {
        "colab": {
          "base_uri": "https://localhost:8080/"
        },
        "id": "DxiDdIn8wmWc",
        "outputId": "8b6da316-f6e9-4b46-f2fe-dab3536377c1"
      },
      "execution_count": null,
      "outputs": [
        {
          "output_type": "stream",
          "name": "stdout",
          "text": [
            "Epoch 1/10\n",
            "3/3 [==============================] - 6s 368ms/step - loss: 2.1942 - val_loss: 1.5685\n",
            "Epoch 2/10\n",
            "3/3 [==============================] - 0s 51ms/step - loss: 1.6330 - val_loss: 1.2287\n",
            "Epoch 3/10\n",
            "3/3 [==============================] - 0s 46ms/step - loss: 1.2445 - val_loss: 0.9728\n",
            "Epoch 4/10\n",
            "3/3 [==============================] - 0s 53ms/step - loss: 0.9799 - val_loss: 0.7864\n",
            "Epoch 5/10\n",
            "3/3 [==============================] - 0s 49ms/step - loss: 0.7981 - val_loss: 0.6507\n",
            "Epoch 6/10\n",
            "3/3 [==============================] - 0s 47ms/step - loss: 0.6770 - val_loss: 0.5536\n",
            "Epoch 7/10\n",
            "3/3 [==============================] - 0s 45ms/step - loss: 0.5911 - val_loss: 0.4855\n",
            "Epoch 8/10\n",
            "3/3 [==============================] - 0s 39ms/step - loss: 0.5451 - val_loss: 0.4380\n",
            "Epoch 9/10\n",
            "3/3 [==============================] - 0s 45ms/step - loss: 0.5126 - val_loss: 0.4070\n",
            "Epoch 10/10\n",
            "3/3 [==============================] - 0s 38ms/step - loss: 0.4885 - val_loss: 0.3882\n",
            "1/1 [==============================] - 1s 644ms/step\n",
            "Prediction of model is: [[1.7865866]]\n"
          ]
        }
      ]
    },
    {
      "cell_type": "markdown",
      "source": [
        "# Have a nice day"
      ],
      "metadata": {
        "id": "fDEkJEMtwpwC"
      }
    }
  ]
}