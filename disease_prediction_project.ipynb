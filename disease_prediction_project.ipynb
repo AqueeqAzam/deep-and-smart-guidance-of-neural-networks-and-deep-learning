# Generate CSV file
data = {
    "Fever": [True, False, True, False, True, False, True, False, True, False],
    "Cough": [True, True, False, True, True, False, False, True, True, False],
    "Headache": [False, True, True, False, True, True, False, True, False, False],
    "Fatigue": [True, False, False, True, True, False, True, True, False, True],
    "Disease": ["COVID-19", "Flu", "Common Cold", "Healthy", "COVID-19", "Common Cold", "COVID-19", "Flu", "COVID-19", "Healthy"]
}

df = pd.DataFrame(data)
df.to_csv("diseases.csv", index=False)
